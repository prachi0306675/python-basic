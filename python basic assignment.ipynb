{
 "cells": [
  {
   "cell_type": "raw",
   "id": "31132aad-b0a8-4be4-b53c-9cfe19c31443",
   "metadata": {},
   "source": [
    "python basic questions ...!"
   ]
  },
  {
   "cell_type": "raw",
   "id": "b628c2a7-7321-46f6-871d-a2e5e671192e",
   "metadata": {},
   "source": [
    "1. what is python, why is it popular?"
   ]
  },
  {
   "cell_type": "code",
   "execution_count": 1,
   "id": "1d7bd3a4-8d77-4f1c-8c18-967b05ad696e",
   "metadata": {},
   "outputs": [],
   "source": [
    "#ans1 - \"python is an interpreted, high-level programming language that is simple and easy to read. It is wedely used because of its simple syntax, \n",
    "#flexibility, and a lot of libraries , frontend , backend and making it suitable for web development , data analysis, artificial intellogence, \n",
    "#image processing, automation, and many more. Its popularity items from its extensive community and versatility of applications.\""
   ]
  },
  {
   "cell_type": "raw",
   "id": "b1b24388-7aaa-4a8e-aa25-945fe04d7c28",
   "metadata": {},
   "source": [
    "2. what is an interpreter in python ?"
   ]
  },
  {
   "cell_type": "code",
   "execution_count": 2,
   "id": "ece8c55d-9a50-4f0d-950f-fad6d9acf7bf",
   "metadata": {},
   "outputs": [],
   "source": [
    "#ans2 - \"An interpreter in python is a program running on a computer that executes Python code line by line and interprets it into machine code. It \n",
    "#allows for immediate code execution, and therefore Python is an interpreted language.\""
   ]
  },
  {
   "cell_type": "raw",
   "id": "28ab184a-81e5-46be-8d43-e3187ea40a9e",
   "metadata": {},
   "source": [
    "3. what are predefined keywords in python?"
   ]
  },
  {
   "cell_type": "code",
   "execution_count": 3,
   "id": "ecb8e2f3-5543-4a3d-8051-f107380948eb",
   "metadata": {},
   "outputs": [],
   "source": [
    "#ans3 - \"In Python, predefined keywords are reserved words that carry specific meanings and are utilized to specify the syntax and structure of the\n",
    "#language. These keywords cannot be used as variable names. Some of the prominent examples are \\\"if\\\", \\\"else\\\", \\\"while\\\", \\\"for\\\", \\\"def\\\", \\\"class\\\",\n",
    "# \\\"import\\\", \\\"True\\\", \\\"false\\\", \\\"None\\\", and \\\"return\\\". These keywords manage control flow, specify functions, manage exceptions, and do a lot\n",
    "# more.\" "
   ]
  },
  {
   "cell_type": "raw",
   "id": "59acac71-cb5d-4d37-b25a-ae7e2a73f113",
   "metadata": {},
   "source": [
    "4. Can keywords be used as variable names?"
   ]
  },
  {
   "cell_type": "code",
   "execution_count": 4,
   "id": "56657054-9780-419d-be14-5b8e05affa3f",
   "metadata": {},
   "outputs": [],
   "source": [
    "#ans4 - \"No, keywords cannot be used as variable names in Python. They are reserved words with special meanings that define the language's syntax and\n",
    "#structure. Using them as variable names will result in a syntax error.\""
   ]
  },
  {
   "cell_type": "raw",
   "id": "e5dfee3f-5e8b-44b7-8760-c288fcf64c86",
   "metadata": {},
   "source": [
    "5. What is mutability in python ?"
   ]
  },
  {
   "cell_type": "code",
   "execution_count": 5,
   "id": "ca0cadcd-5ab2-47c3-83fb-fc7f5328555e",
   "metadata": {},
   "outputs": [],
   "source": [
    "#ans5 - Mutability in Python refers to whether an object's value can be changed after they are creation. Mutable objects (e.g, lists, dictionaries,\n",
    "#sets) can be modified, while immutable objects (e.g, strings, tuples, integers) cannot be altered once created.\" "
   ]
  },
  {
   "cell_type": "raw",
   "id": "197249ac-3692-4bc3-9ecd-fae3a537e371",
   "metadata": {},
   "source": [
    "6. Why are lists mutable , but tuples are immutable ?"
   ]
  },
  {
   "cell_type": "code",
   "execution_count": 6,
   "id": "324288fc-25ea-4132-97af-4e27eca7852d",
   "metadata": {},
   "outputs": [],
   "source": [
    "#ans6 - \"Lists are mutable because they are designed for dynamic data, allowing modifications like adding, removing, or changing elements. Tuples are\n",
    "#immutable to ensure data integrity and allow for hashable keys in dictionaries, making them more memory-efficient and faster.\""
   ]
  },
  {
   "cell_type": "raw",
   "id": "f280e0d8-9219-47bf-bc56-56d4bee3f736",
   "metadata": {},
   "source": [
    "7. What is the difference between \"==\" and \"is\" operators in python?"
   ]
  },
  {
   "cell_type": "code",
   "execution_count": 7,
   "id": "e90afc96-ad45-412b-8d6e-a9d8d9967487",
   "metadata": {},
   "outputs": [],
   "source": [
    "#ans7 - The \\\"==\\\" operator checks if values of two objects are equal, while the \\\"is\\\" operator checks if they refer to the same memory location\n",
    "#(identify).\""
   ]
  },
  {
   "cell_type": "raw",
   "id": "d2431c35-72d6-4ba4-aa8e-f0a353a45f66",
   "metadata": {},
   "source": [
    "8. What are logical operaters in python?"
   ]
  },
  {
   "cell_type": "code",
   "execution_count": 8,
   "id": "20934ba2-300b-412c-bf77-bc54560a0ca9",
   "metadata": {},
   "outputs": [],
   "source": [
    "#ans8 - Logical operators in python are used to combine conditional statements. They include:\n",
    "#_ **and**: Returns 'True' if both conditions are true. \\n\",\n",
    "#_ **or**: Returns 'True' if at least one condition is true. \\n\",\n",
    "#_ **not**: Returns 'True' if the condition is false, and vice versa. \\n\",\n",
    "#\"These operators are commonly used in decision-making and control flow.\""
   ]
  },
  {
   "cell_type": "raw",
   "id": "af605706-1f13-4fb2-9880-384f8e668e3b",
   "metadata": {},
   "source": [
    "9. What is type casting in python? "
   ]
  },
  {
   "cell_type": "code",
   "execution_count": 9,
   "id": "8faf618b-f6c9-4962-bbd5-4e887371f243",
   "metadata": {},
   "outputs": [],
   "source": [
    "#ans9- \"Type casting in python is the process of converting one data type into another. It can be done using functions like int(), float(), str(), \n",
    "#list(), and tuple(). for example, int(\\\"10\\\") converts the string \\\"10\\\" into an integer.\" "
   ]
  },
  {
   "cell_type": "raw",
   "id": "7d018366-da36-4af9-9213-4c717a7bc364",
   "metadata": {},
   "source": [
    "10. What is the difference  between implicit and explicit type casting?"
   ]
  },
  {
   "cell_type": "code",
   "execution_count": 10,
   "id": "843cb420-d6be-4258-b46b-27278a505565",
   "metadata": {},
   "outputs": [],
   "source": [
    "#ans10- \"Implicit type casting is done automatically by Python, where it converts a smaller data type to a larger one (e.g., int to float) to avoid \n",
    "#data loss.\"\n",
    "#\"explicit type casting is manually done by the programmer using functions like int(), float(), or str() to convert between data types.\""
   ]
  },
  {
   "cell_type": "raw",
   "id": "81920d03-508e-4add-970a-22a2d48042bc",
   "metadata": {},
   "source": [
    "11. What is the purpose of conditional statements in Python?"
   ]
  },
  {
   "cell_type": "code",
   "execution_count": 11,
   "id": "a034f6d6-783a-4f6f-b80f-57fa4de0280c",
   "metadata": {},
   "outputs": [],
   "source": [
    "#ans11- \"Conditional statements in Python are used to execute specific code blocks based on whether a condition is true or false. They control the \n",
    "#flow of the program using if, elif, and else statements.\""
   ]
  },
  {
   "cell_type": "raw",
   "id": "c31bd861-0d7e-4cd5-ab5c-a9b192dc713f",
   "metadata": {},
   "source": [
    "12. How does the elif statement work?"
   ]
  },
  {
   "cell_type": "code",
   "execution_count": 12,
   "id": "d2cc6bed-add4-4f97-a909-6c12605c8fa6",
   "metadata": {},
   "outputs": [],
   "source": [
    "#The elif statement in Python is used to check multiple conditions after an if statement. If the if condition is False, Python checks the elif \n",
    "#condition. If it's True, the corresponding block executes. Multiple elif statements can be used, and an optional else can handle cases when none\n",
    "#are True.\""
   ]
  },
  {
   "cell_type": "raw",
   "id": "f16a01a6-06ea-4f6a-9e3a-6762f062388c",
   "metadata": {},
   "source": [
    "13. What is the difference between for and while loops?"
   ]
  },
  {
   "cell_type": "code",
   "execution_count": 13,
   "id": "06f29350-9d5a-4b8c-abd5-5316a92928b8",
   "metadata": {},
   "outputs": [],
   "source": [
    "#ans13- \"A **for loop** is used for iterating over a sequence (e.g., list, tuple, string) and runs a fixed number of times.\n",
    "#A **while loop** executes as long as a condition is true, making it suitable for indeterminate iteration.\""
   ]
  },
  {
   "cell_type": "raw",
   "id": "2cafae91-56ec-4d6a-b80f-8a081b1cdeb6",
   "metadata": {},
   "source": [
    "14. Describe a scenario where a while loop is more suitable than a for loop."
   ]
  },
  {
   "cell_type": "code",
   "execution_count": 14,
   "id": "b0004a31-1d9c-488c-aa24-7008bd3f0e65",
   "metadata": {},
   "outputs": [],
   "source": [
    "#ans14- \"A **while loop** is more suitable when the number of iterations is unknown beforehand. For example, reading user input until they enter a\n",
    "#valid value or processing data until a condition is met.\""
   ]
  },
  {
   "cell_type": "raw",
   "id": "9b478f55-d629-4175-b99e-050f1a9579c8",
   "metadata": {},
   "source": [
    "**practical Questions**...!"
   ]
  },
  {
   "cell_type": "raw",
   "id": "475ccc0e-e8a3-48db-9531-77e9caf3d2c9",
   "metadata": {},
   "source": [
    "1. Write a python program to print \"Hello, World!\""
   ]
  },
  {
   "cell_type": "code",
   "execution_count": 15,
   "id": "e5d95e8d-0951-4156-8dfe-8ecb77f579f1",
   "metadata": {},
   "outputs": [
    {
     "name": "stdout",
     "output_type": "stream",
     "text": [
      "hello, world!\n"
     ]
    }
   ],
   "source": [
    "#ans1- In python program, \"hello, World!\"\n",
    "print(\"hello, world!\")\n"
   ]
  },
  {
   "cell_type": "raw",
   "id": "b6ca631e-be7c-4e55-8461-a7bde12da731",
   "metadata": {},
   "source": [
    "2. Write a python program that displays your name and age."
   ]
  },
  {
   "cell_type": "code",
   "execution_count": 16,
   "id": "69d72847-607c-4df2-aa94-d38182a163a9",
   "metadata": {},
   "outputs": [
    {
     "name": "stdout",
     "output_type": "stream",
     "text": [
      "My name is (prachi) and I am (19) years old.\n"
     ]
    }
   ],
   "source": [
    "#ans2- In python program, name and age:\n",
    "name = \"prachi\"\n",
    "age = 19\n",
    "\n",
    "print(f\"My name is (prachi) and I am (19) years old.\")"
   ]
  },
  {
   "cell_type": "raw",
   "id": "ada3e4c5-8d17-4478-824a-b7b5533af5c1",
   "metadata": {},
   "source": [
    "3. Write code to print all the pre-defined keywords in Python using the keyword library."
   ]
  },
  {
   "cell_type": "raw",
   "id": "de648709-7fe2-4e6e-ab47-4946db28d628",
   "metadata": {},
   "source": [
    "#ans3- In python keywords, are predefined words that hold a special meaning and have specific purpose.\n",
    "#code:\n",
    "help('keywords')"
   ]
  },
  {
   "cell_type": "raw",
   "id": "3c6c0d31-3b25-4bb2-8070-66212206a63e",
   "metadata": {},
   "source": [
    "4. Write a program that checks if a given word is a python keyword."
   ]
  },
  {
   "cell_type": "code",
   "execution_count": 18,
   "id": "2bf31054-0f67-4023-9675-37c6e9808341",
   "metadata": {},
   "outputs": [
    {
     "name": "stdout",
     "output_type": "stream",
     "text": [
      "'for' is a python keyword.\n"
     ]
    }
   ],
   "source": [
    "#ans4 - \n",
    "import keyword\n",
    "\n",
    "word = \"for\"  # The word you want to check\n",
    "\n",
    "if keyword.iskeyword(word) :\n",
    "    print(f\"'{word}' is a python keyword.\")\n",
    "else:\n",
    "    print(f\"'{word}' is NOT a python keyword.\")"
   ]
  },
  {
   "cell_type": "raw",
   "id": "79c1e0d7-4a9b-4414-9546-335202f1bbd5",
   "metadata": {},
   "source": [
    "5. Create a list and tuple in python, and demonstrate how attempting to change an element works differently for each."
   ]
  },
  {
   "cell_type": "code",
   "execution_count": 19,
   "id": "1e65391f-bbad-4510-bf6a-abd472cfe9fd",
   "metadata": {},
   "outputs": [
    {
     "name": "stdout",
     "output_type": "stream",
     "text": [
      "(1, 2, 3)\n"
     ]
    }
   ],
   "source": [
    "# list vs tuple behaviour\n",
    "my_list = [1, 2, 3]\n",
    "my_tuple = (1, 2, 3)\n",
    "my_list[0] = 100\n",
    "print (my_tuple) #works\n",
    "\n",
    "#my_tuple[0] = 100"
   ]
  },
  {
   "cell_type": "code",
   "execution_count": 24,
   "id": "7dc913e3-2f1e-46ef-907d-047d619f8f7e",
   "metadata": {},
   "outputs": [
    {
     "name": "stdout",
     "output_type": "stream",
     "text": [
      "(100, 2, 3)\n"
     ]
    }
   ],
   "source": [
    "#  list vs tuple behaviour\n",
    "my_list = [100, 2, 3]\n",
    "my_tuple = (100, 2, 3)\n",
    "my_list[0] = 100\n",
    "print (my_tuple) #works\n",
    "\n",
    "#my_tuple[0] = 100\n"
   ]
  },
  {
   "cell_type": "raw",
   "id": "9f02db60-fd8e-4aca-9f28-4086beecd1bb",
   "metadata": {},
   "source": [
    "6. Write a function to demonstrate the behavior of mutable and immutable arguments."
   ]
  },
  {
   "cell_type": "code",
   "execution_count": 9,
   "id": "523974ec-9849-493e-8322-4e7262fccb5e",
   "metadata": {},
   "outputs": [
    {
     "name": "stdout",
     "output_type": "stream",
     "text": [
      "[100, 2, 3]\n"
     ]
    }
   ],
   "source": [
    "#ans6- #mutable vs immutable\n",
    "def modify(arg):\n",
    "    arg[0] = 100\n",
    "lst = [1, 2, 3]\n",
    "modify(lst)\n",
    "print(lst)"
   ]
  },
  {
   "cell_type": "raw",
   "id": "31469bce-b07b-419f-8c83-1948cdb9b8bc",
   "metadata": {},
   "source": [
    "7. Write a program that performs basic arithmetic operations on two user-input numbers."
   ]
  },
  {
   "cell_type": "code",
   "execution_count": 11,
   "id": "27277862-9da6-471e-9b70-b902aac930b6",
   "metadata": {},
   "outputs": [
    {
     "name": "stdin",
     "output_type": "stream",
     "text": [
      "Enter number 1:  2\n",
      "Enter number 2:  4\n"
     ]
    },
    {
     "name": "stdout",
     "output_type": "stream",
     "text": [
      "sum: 6\n"
     ]
    }
   ],
   "source": [
    "#ans7- arithmetic operations\n",
    "a = int(input(\"Enter number 1: \"))\n",
    "b = int(input(\"Enter number 2: \"))\n",
    "print(\"sum:\", a + b)"
   ]
  },
  {
   "cell_type": "raw",
   "id": "9e135c2c-2805-49fb-b643-6791360cf45a",
   "metadata": {},
   "source": [
    "8. Write a program to demonstrate the use of logical operators."
   ]
  },
  {
   "cell_type": "code",
   "execution_count": 12,
   "id": "f1bbe4b7-c301-4c60-98b7-f93c5013a8ea",
   "metadata": {},
   "outputs": [
    {
     "name": "stdout",
     "output_type": "stream",
     "text": [
      "True\n"
     ]
    }
   ],
   "source": [
    "#ans8- logical operation\n",
    "x = 5\n",
    "y = 10\n",
    "print(x > 3 and y < 15)"
   ]
  },
  {
   "cell_type": "raw",
   "id": "db302863-8b54-457c-b709-fa3a80fc7a9a",
   "metadata": {},
   "source": [
    "9. Write a Python program to convert user input from string to integer, float, and boolean types."
   ]
  },
  {
   "cell_type": "code",
   "execution_count": 13,
   "id": "2551dff3-61ad-4a3d-8091-c65c85d44cf7",
   "metadata": {},
   "outputs": [
    {
     "name": "stdin",
     "output_type": "stream",
     "text": [
      "enter a number:  1\n"
     ]
    },
    {
     "name": "stdout",
     "output_type": "stream",
     "text": [
      "1 1.0 True\n"
     ]
    }
   ],
   "source": [
    "#ans9- convert string input to int/float/bool\n",
    "s = input(\"enter a number: \")\n",
    "print(int(s), float(s), bool(int(s)))"
   ]
  },
  {
   "cell_type": "raw",
   "id": "2790302d-d54f-4fc4-9183-9e6d4ea867cf",
   "metadata": {},
   "source": [
    "10. Write code to demonstrate type casting with list elements."
   ]
  },
  {
   "cell_type": "code",
   "execution_count": 14,
   "id": "cc3610f8-64ab-4e50-88fc-9b240888762f",
   "metadata": {},
   "outputs": [
    {
     "name": "stdout",
     "output_type": "stream",
     "text": [
      "[1, 2, 3]\n"
     ]
    }
   ],
   "source": [
    "#ans10- type casting list elements\n",
    "lst = [\"1\", \"2\", \"3\"]\n",
    "lst_int = list(map(int, lst))\n",
    "print(lst_int)"
   ]
  },
  {
   "cell_type": "raw",
   "id": "4668d146-7154-454d-a1a1-516a0610421e",
   "metadata": {},
   "source": [
    "11. Write a program that checks if a numbers is positive, negative, or zero."
   ]
  },
  {
   "cell_type": "code",
   "execution_count": 15,
   "id": "ef0f4022-1558-4cb4-89c7-dc1efdeea4c6",
   "metadata": {},
   "outputs": [
    {
     "name": "stdin",
     "output_type": "stream",
     "text": [
      "Enter a number:  1\n"
     ]
    },
    {
     "name": "stdout",
     "output_type": "stream",
     "text": [
      "positive\n"
     ]
    }
   ],
   "source": [
    "#ans11-\n",
    "n = int(input(\"Enter a number: \"))\n",
    "if n > 0:\n",
    "    print(\"positive\")\n",
    "elif n < 0:\n",
    "    print(\"negative\")\n",
    "else:\n",
    "    print(\"zero\")"
   ]
  },
  {
   "cell_type": "raw",
   "id": "298b0c31-efc3-4ca5-83e8-3c639d337dd6",
   "metadata": {},
   "source": [
    "12. Write a for loop to print numbers from 1 to 10."
   ]
  },
  {
   "cell_type": "code",
   "execution_count": 18,
   "id": "bd257d6e-a957-4999-85d7-c7261ad47185",
   "metadata": {},
   "outputs": [
    {
     "name": "stdout",
     "output_type": "stream",
     "text": [
      "1\n",
      "2\n",
      "3\n",
      "4\n",
      "5\n",
      "6\n",
      "7\n",
      "8\n",
      "9\n",
      "10\n"
     ]
    }
   ],
   "source": [
    "#ans12- for loop from 1 to 10\n",
    "for i in range(1, 11):\n",
    "    print(i)"
   ]
  },
  {
   "cell_type": "raw",
   "id": "461e6338-c80e-4b3b-970a-4809cd8b16f3",
   "metadata": {},
   "source": [
    "13. Write a Python program to find the sum of all even numbers between 1 and 50."
   ]
  },
  {
   "cell_type": "code",
   "execution_count": 23,
   "id": "e2dd480e-4100-49b7-9b17-4ca23376c439",
   "metadata": {},
   "outputs": [
    {
     "name": "stdout",
     "output_type": "stream",
     "text": [
      "Even sum: 650\n"
     ]
    }
   ],
   "source": [
    "#ans13- sum of even numbers between 1 and 50 \n",
    "even_sum = sum(i for i in range(1, 51 ) if i % 2 == 0)\n",
    "print(\"Even sum:\", even_sum)"
   ]
  },
  {
   "cell_type": "raw",
   "id": "774001a4-fbad-4194-a42a-aceeaecd4415",
   "metadata": {},
   "source": [
    "14. Write a program to reverse a string using a while loop."
   ]
  },
  {
   "cell_type": "code",
   "execution_count": 24,
   "id": "164b86dc-ab3a-4a1a-a73e-8f181fe637b8",
   "metadata": {},
   "outputs": [
    {
     "name": "stdout",
     "output_type": "stream",
     "text": [
      "olleH"
     ]
    }
   ],
   "source": [
    "#ans14- reverse sreing using while loop\n",
    "s = \"Hello\"\n",
    "i = len(s) - 1\n",
    "while i >= 0:\n",
    "    print(s[i], end=\"\")\n",
    "    i -=1"
   ]
  },
  {
   "cell_type": "raw",
   "id": "a92e4a36-9899-44e4-9ac4-843ff3610c97",
   "metadata": {},
   "source": [
    "15. Write a Python program to calculate the factorial of a number provided by the user using a while loop."
   ]
  },
  {
   "cell_type": "code",
   "execution_count": 26,
   "id": "bb3e0b69-315e-46a6-81a8-d0cbb611d9f3",
   "metadata": {},
   "outputs": [
    {
     "name": "stdin",
     "output_type": "stream",
     "text": [
      "Enter number:  3\n"
     ]
    },
    {
     "name": "stdout",
     "output_type": "stream",
     "text": [
      "factorial: 6\n"
     ]
    }
   ],
   "source": [
    "#ans15- \n",
    "n = int(input(\"Enter number: \"))\n",
    "fact = 1\n",
    "while n > 1:\n",
    "    fact *= n\n",
    "    n -= 1\n",
    "print(\"factorial:\", fact)"
   ]
  }
 ],
 "metadata": {
  "kernelspec": {
   "display_name": "Python 3 (ipykernel)",
   "language": "python",
   "name": "python3"
  },
  "language_info": {
   "codemirror_mode": {
    "name": "ipython",
    "version": 3
   },
   "file_extension": ".py",
   "mimetype": "text/x-python",
   "name": "python",
   "nbconvert_exporter": "python",
   "pygments_lexer": "ipython3",
   "version": "3.12.7"
  }
 },
 "nbformat": 4,
 "nbformat_minor": 5
}
